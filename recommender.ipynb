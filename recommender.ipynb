{
 "cells": [
  {
   "cell_type": "markdown",
   "metadata": {},
   "source": [
    "# Assignment 3 - Data Analytics 1\n",
    "\n",
    "**TeamId** : 6"
   ]
  },
  {
   "cell_type": "code",
   "execution_count": 1,
   "metadata": {},
   "outputs": [],
   "source": [
    "# import libraries\n",
    "import pandas as pd\n",
    "import numpy as np\n",
    "import matplotlib.pyplot as plt\n",
    "import tqdm\n",
    "from sklearn.model_selection import train_test_split\n",
    "\n",
    "from itertools import combinations"
   ]
  },
  {
   "cell_type": "markdown",
   "metadata": {},
   "source": [
    "----\n",
    "## 1. Data Preprocessing"
   ]
  },
  {
   "cell_type": "markdown",
   "metadata": {
    "vscode": {
     "languageId": "plaintext"
    }
   },
   "source": [
    "### 1.1 Load Data\n",
    "from the the folder in ml-latest-small which contains the following files:\n",
    "- `links.csv`\n",
    "    - contains:\n",
    "        - `movieId`\n",
    "        - `imdbID`\n",
    "        - `tmdbId`\n",
    "- `movies.csv`\n",
    "    - contains:\n",
    "        - `movieId`\n",
    "        - `title`\n",
    "        - `genres`\n",
    "- `ratings.csv`\n",
    "    - contains:\n",
    "        - `userId`\n",
    "        - `movieId`\n",
    "        - `rating`\n",
    "        - `timestamp`\n",
    "- `tags.csv`\n",
    "    - contains:\n",
    "        - `userId`\n",
    "        - `movieId`\n",
    "        - `tag`\n",
    "        - `timestamp`"
   ]
  },
  {
   "cell_type": "code",
   "execution_count": 2,
   "metadata": {},
   "outputs": [
    {
     "data": {
      "text/plain": [
       "((9742, 3), (9742, 3), (100836, 4), (3683, 4))"
      ]
     },
     "execution_count": 2,
     "metadata": {},
     "output_type": "execute_result"
    }
   ],
   "source": [
    "# loafing csv to dataframes\n",
    "df_links = pd.read_csv('ml-latest-small/links.csv')\n",
    "df_movies = pd.read_csv('ml-latest-small/movies.csv')\n",
    "df_ratings = pd.read_csv('ml-latest-small/ratings.csv')\n",
    "df_tags = pd.read_csv('ml-latest-small/tags.csv')\n",
    "\n",
    "# print the shape of the dataframes\n",
    "df_links.shape,df_movies.shape,df_ratings.shape,df_tags.shape"
   ]
  },
  {
   "cell_type": "code",
   "execution_count": 3,
   "metadata": {},
   "outputs": [
    {
     "data": {
      "text/html": [
       "<div>\n",
       "<style scoped>\n",
       "    .dataframe tbody tr th:only-of-type {\n",
       "        vertical-align: middle;\n",
       "    }\n",
       "\n",
       "    .dataframe tbody tr th {\n",
       "        vertical-align: top;\n",
       "    }\n",
       "\n",
       "    .dataframe thead th {\n",
       "        text-align: right;\n",
       "    }\n",
       "</style>\n",
       "<table border=\"1\" class=\"dataframe\">\n",
       "  <thead>\n",
       "    <tr style=\"text-align: right;\">\n",
       "      <th></th>\n",
       "      <th>userId</th>\n",
       "      <th>movieId</th>\n",
       "      <th>rating</th>\n",
       "      <th>timestamp</th>\n",
       "    </tr>\n",
       "  </thead>\n",
       "  <tbody>\n",
       "    <tr>\n",
       "      <th>0</th>\n",
       "      <td>1</td>\n",
       "      <td>1</td>\n",
       "      <td>4.0</td>\n",
       "      <td>964982703</td>\n",
       "    </tr>\n",
       "    <tr>\n",
       "      <th>1</th>\n",
       "      <td>1</td>\n",
       "      <td>3</td>\n",
       "      <td>4.0</td>\n",
       "      <td>964981247</td>\n",
       "    </tr>\n",
       "    <tr>\n",
       "      <th>2</th>\n",
       "      <td>1</td>\n",
       "      <td>6</td>\n",
       "      <td>4.0</td>\n",
       "      <td>964982224</td>\n",
       "    </tr>\n",
       "    <tr>\n",
       "      <th>3</th>\n",
       "      <td>1</td>\n",
       "      <td>47</td>\n",
       "      <td>5.0</td>\n",
       "      <td>964983815</td>\n",
       "    </tr>\n",
       "    <tr>\n",
       "      <th>4</th>\n",
       "      <td>1</td>\n",
       "      <td>50</td>\n",
       "      <td>5.0</td>\n",
       "      <td>964982931</td>\n",
       "    </tr>\n",
       "  </tbody>\n",
       "</table>\n",
       "</div>"
      ],
      "text/plain": [
       "   userId  movieId  rating  timestamp\n",
       "0       1        1     4.0  964982703\n",
       "1       1        3     4.0  964981247\n",
       "2       1        6     4.0  964982224\n",
       "3       1       47     5.0  964983815\n",
       "4       1       50     5.0  964982931"
      ]
     },
     "execution_count": 3,
     "metadata": {},
     "output_type": "execute_result"
    }
   ],
   "source": [
    "df_ratings.head()"
   ]
  },
  {
   "cell_type": "markdown",
   "metadata": {},
   "source": [
    "### 1.2 Form the transactional data set, which consists of entries of the form:\n",
    "\n",
    "$\\{userId, \\text{<movies rated above 2>}\\}$"
   ]
  },
  {
   "cell_type": "code",
   "execution_count": 4,
   "metadata": {},
   "outputs": [
    {
     "name": "stderr",
     "output_type": "stream",
     "text": [
      "100%|██████████| 610/610 [00:00<00:00, 1405.30it/s]\n"
     ]
    }
   ],
   "source": [
    "transactional_dic = {}\n",
    "\n",
    "# first get the unique user ids\n",
    "unique_user_ids = df_ratings['userId'].unique()\n",
    "\n",
    "# loop through the unique user ids and get the movies they have rated\n",
    "for user_id in tqdm.tqdm(unique_user_ids):\n",
    "    transactional_dic[user_id] = df_ratings[df_ratings['userId']==user_id]['movieId'].values"
   ]
  },
  {
   "cell_type": "markdown",
   "metadata": {},
   "source": [
    "### 1.3 Consider only those users who have rated more than 10 movie"
   ]
  },
  {
   "cell_type": "code",
   "execution_count": 5,
   "metadata": {},
   "outputs": [
    {
     "name": "stdout",
     "output_type": "stream",
     "text": [
      "Number of users:  610\n",
      "Number of users (rated more than 10 movies):  610\n"
     ]
    }
   ],
   "source": [
    "print('Number of users: ',len(transactional_dic.keys()))\n",
    "\n",
    "# prune users who have rated less than 10 movies\n",
    "for user_id in list(transactional_dic.keys()):\n",
    "    if len(transactional_dic[user_id]) < 10:\n",
    "        del transactional_dic[user_id]\n",
    "        \n",
    "print('Number of users (rated more than 10 movies): ',len(transactional_dic.keys()))"
   ]
  },
  {
   "cell_type": "markdown",
   "metadata": {},
   "source": [
    "#### 1.4.1 Divide the data set into 80% training set and 20% test set.\n",
    "\n",
    "Divide the data set into 80% training set and 20% test set. Remove 20% of\n",
    "movies watched from each user and create a test set using the removed\n",
    "movies"
   ]
  },
  {
   "cell_type": "code",
   "execution_count": 6,
   "metadata": {},
   "outputs": [],
   "source": [
    "# remove 20% of the movies from each user's list to get train and store the removed movies as test\n",
    "user_ids = list(transactional_dic.keys())\n",
    "\n",
    "# Split the data\n",
    "train_dic = {}\n",
    "test_dic = {}\n",
    "for user_id in user_ids:\n",
    "    train_dic[user_id], test_dic[user_id] = train_test_split(transactional_dic[user_id], test_size=0.2, random_state=42)\n",
    "\n",
    "# Convert lists to DataFrames\n",
    "train_df = pd.DataFrame(train_dic.items(), columns=['userId', 'moviesRatedAbove2'])\n",
    "test_df = pd.DataFrame(test_dic.items(), columns=['userId', 'moviesRatedAbove2'])"
   ]
  },
  {
   "cell_type": "code",
   "execution_count": 7,
   "metadata": {},
   "outputs": [
    {
     "name": "stdout",
     "output_type": "stream",
     "text": [
      "Train shape:  (610, 2)\n",
      "Test shape:  (610, 2)\n"
     ]
    }
   ],
   "source": [
    "print('Train shape: ',train_df.shape)\n",
    "print('Test shape: ',test_df.shape)"
   ]
  },
  {
   "cell_type": "code",
   "execution_count": 8,
   "metadata": {},
   "outputs": [
    {
     "name": "stdout",
     "output_type": "stream",
     "text": [
      "Number of users in train:  610\n",
      "Number of users in test:  610\n"
     ]
    }
   ],
   "source": [
    "print('Number of users in train: ',len(train_dic.keys()))\n",
    "print('Number of users in test: ',len(test_dic.keys()))"
   ]
  },
  {
   "cell_type": "markdown",
   "metadata": {},
   "source": [
    "----\n",
    "## 1. Association Rule Mining"
   ]
  },
  {
   "cell_type": "markdown",
   "metadata": {},
   "source": [
    "---\n",
    "### 1.1 From the training set, extract the set of all association rules of form X→Y,\n",
    "\n",
    "Where X contains a single movie and Y contains the set of movies from the\n",
    "training set by employing the apriori or FPgrowth approach and set some\n",
    "minsup and minconf (eg : 50 and 0.1 respectively)"
   ]
  },
  {
   "cell_type": "code",
   "execution_count": 9,
   "metadata": {},
   "outputs": [],
   "source": [
    "MINIMUM_SUPPORT = 70\n",
    "MINIMUM_CONFIDENCE = 0.1"
   ]
  },
  {
   "cell_type": "markdown",
   "metadata": {},
   "source": [
    "-----\n",
    "### 1.2 FP-node class\n",
    "\n",
    "This class will be used to create the FP-tree. Each node will have the following attributes:\n",
    "- `item_name` : name of the item\n",
    "- `count` : count of the item\n",
    "- `parent` : parent of the node\n",
    "- `children` : list of children of the node\n",
    "- `link` : pointer to the next node with the same item name "
   ]
  },
  {
   "cell_type": "code",
   "execution_count": 10,
   "metadata": {},
   "outputs": [],
   "source": [
    "class FP_Node:\n",
    "    def __init__(self,item,frequency,parent):\n",
    "        self.item = item\n",
    "        self.frequency = frequency\n",
    "        self.parent = parent\n",
    "        self.children = {}\n",
    "        self.link = None"
   ]
  },
  {
   "cell_type": "code",
   "execution_count": 11,
   "metadata": {},
   "outputs": [],
   "source": [
    "class FP_Tree:\n",
    "    def __init__(self,transactions,min_support):\n",
    "        self.head = FP_Node(None,None,None)\n",
    "        \n",
    "        # transaction should be a list of tuple (timeset,frequency)\n",
    "        assert type(transactions) == list\n",
    "        assert type(transactions[0]) == list\n",
    "        assert type(transactions[0][0]) == list\n",
    "        assert type(transactions[0][1]) == int\n",
    "        \n",
    "        self.transactions = transactions\n",
    "        self.min_support = min_support\n",
    "        \n",
    "        self.item_frequency = {}\n",
    "        self.header_table = {}\n",
    "        \n",
    "    def print_tree(self):\n",
    "        self.print_tree_structure(self.head)\n",
    "        \n",
    "    def print_tree_structure(self, node, indent=\" \"):\n",
    "        if node.item == -1:\n",
    "            print(f\"{indent}Root\")\n",
    "        else:\n",
    "            print(f\"{indent}Item: {node.item} Frequency: {node.frequency}\")\n",
    "        for child in node.children.values():\n",
    "            self.print_tree_structure(child, indent + \"|---->\")\n",
    "        \n",
    "    def get_frequent_items(self):\n",
    "        item_freqency = {}\n",
    "        \n",
    "        for transaction in self.transactions:\n",
    "            for item in transaction[0]:\n",
    "                if item in item_freqency:\n",
    "                    item_freqency[item] += transaction[1]\n",
    "                else:\n",
    "                    item_freqency[item] = transaction[1]\n",
    "                    \n",
    "        item_freqency = {k:v for k,v in item_freqency.items() if v >= self.min_support}\n",
    "        \n",
    "        # order the items based on the frequency\n",
    "        item_freqency = dict(sorted(item_freqency.items(),key=lambda x:x[1],reverse=True))\n",
    "        \n",
    "        return item_freqency\n",
    "    \n",
    "    def build_tree(self):\n",
    "        # get the frequent items\n",
    "        self.item_frequency = self.get_frequent_items()\n",
    "        \n",
    "        # reorder the transactions based on the frequency of the items\n",
    "        for transaction in self.transactions:\n",
    "            transaction[0] = [item for item in transaction[0] if item in self.item_frequency]\n",
    "            transaction[0].sort(key=lambda x: self.item_frequency[x],reverse=True)\n",
    "        \n",
    "        # now add the transactions to the tree\n",
    "        for transaction in self.transactions:\n",
    "            self.insert_transaction(transaction[0],transaction[1])\n",
    "        \n",
    "        # todo format the header table\n",
    "        new_header_table = {}\n",
    "        \n",
    "        for item in self.header_table:\n",
    "            new_header_table[item] = [self.item_frequency[item],self.header_table[item]]\n",
    "        \n",
    "        self.header_table = new_header_table\n",
    "        \n",
    "        return self.header_table\n",
    "    \n",
    "    def insert_transaction(self,itemset,frequency):\n",
    "        curr_node = self.head\n",
    "        \n",
    "        for item in itemset:\n",
    "            if item in curr_node.children:\n",
    "                curr_node.children[item].frequency += frequency\n",
    "            else:\n",
    "                curr_node.children[item] = FP_Node(item, frequency, curr_node)\n",
    "                \n",
    "                # add the node is added to heads table list of linked nodes\n",
    "                if item not in self.header_table:\n",
    "                    self.header_table[item] = curr_node.children[item]\n",
    "                else:\n",
    "                    node = self.header_table[item]\n",
    "                    while node.link is not None:\n",
    "                        node = node.link\n",
    "                    node.link = curr_node.children[item]\n",
    "            curr_node = curr_node.children[item]"
   ]
  },
  {
   "cell_type": "code",
   "execution_count": 12,
   "metadata": {},
   "outputs": [],
   "source": [
    "def get_path_from_node(node):\n",
    "        frequency = node.frequency\n",
    "        curr_node = node.parent\n",
    "        \n",
    "        path = []\n",
    "        \n",
    "        while curr_node.parent is not None:\n",
    "            path.append(curr_node.item)\n",
    "            curr_node = curr_node.parent\n",
    "            \n",
    "        return path,frequency\n",
    "    \n",
    "def get_conditional_patterns_heads(header_table):\n",
    "    conditional_patterns_heads = []\n",
    "    \n",
    "    for item in header_table:\n",
    "        diff_paths = get_conditional_patterns(header_table[item][1])            \n",
    "        conditional_patterns_heads.append([item,diff_paths])\n",
    "            \n",
    "    return conditional_patterns_heads\n",
    "\n",
    "def get_conditional_patterns(node):\n",
    "    diff_paths = []\n",
    "    \n",
    "    curr_node = node\n",
    "    while curr_node is not None:\n",
    "        path,frequency = get_path_from_node(curr_node)\n",
    "        if len(path) > 0:\n",
    "            diff_paths.append([path,frequency])\n",
    "        \n",
    "        curr_node = curr_node.link\n",
    "    \n",
    "    return diff_paths"
   ]
  },
  {
   "cell_type": "code",
   "execution_count": 13,
   "metadata": {},
   "outputs": [],
   "source": [
    "def fp_growth(headerTable, minSup, preFix, freqItemList):\n",
    "    # sort the items in the header table based on the frequency\n",
    "    items = [item[0] for item in sorted(headerTable.items(),key=lambda x:x[1][0])]\n",
    "    \n",
    "    for item in items:\n",
    "        new_freq_set = preFix.copy()\n",
    "        new_freq_set.add(item)\n",
    "        freqItemList.append(new_freq_set)\n",
    "        \n",
    "        conditional_pattern_bases = get_conditional_patterns(headerTable[item][1])\n",
    "            \n",
    "        if conditional_pattern_bases == []:\n",
    "            continue\n",
    "        \n",
    "        # build the conditional tree\n",
    "        conditional_tree = FP_Tree(conditional_pattern_bases,minSup)\n",
    "        conditional_header_table = conditional_tree.build_tree()\n",
    "        \n",
    "        if conditional_tree.header_table != {}:\n",
    "            fp_growth(conditional_header_table,minSup,new_freq_set,freqItemList)"
   ]
  },
  {
   "cell_type": "code",
   "execution_count": 14,
   "metadata": {},
   "outputs": [],
   "source": [
    "def get_subset(items):\n",
    "    subset_list = []\n",
    "    for i in range(1,len(items)):\n",
    "        subset = list(combinations(items,i))\n",
    "        \n",
    "        if len(subset) > 0:\n",
    "            subset_list.extend(subset)\n",
    "    \n",
    "    return subset_list\n",
    "\n",
    "def get_support(itemSet, transactions):\n",
    "    support = 0\n",
    "\n",
    "    for transaction in transactions:\n",
    "        if set(itemSet).issubset(set(transaction)):\n",
    "            support += 1\n",
    "\n",
    "    return support\n",
    "\n",
    "def associationRule(freqItemSet,orgItemSet,min_confidence):\n",
    "    rules = []\n",
    "    \n",
    "    for itemSet in tqdm.tqdm(freqItemSet):\n",
    "        # get the subsets of the itemset\n",
    "        subsets = get_subset(itemSet)\n",
    "\n",
    "        # support count\n",
    "        support_count = get_support(itemSet, orgItemSet)\n",
    "            \n",
    "        # loop through the subsets and get the confidence\n",
    "        for subset in subsets:\n",
    "            antecedent = list(subset)\n",
    "            consequent = list(set(itemSet) - set(antecedent))\n",
    "            \n",
    "            # support count\n",
    "            subset_suport_count = get_support(antecedent, orgItemSet)\n",
    "            \n",
    "            # support calculation\n",
    "            support = support_count / len(orgItemSet)\n",
    "            subset_support = subset_suport_count / len(orgItemSet)\n",
    "            \n",
    "            # get the confidence\n",
    "            confidence = float(support/subset_support) \n",
    "            \n",
    "            if confidence >= min_confidence:\n",
    "                rules.append([antecedent, consequent, support, confidence])\n",
    "    return rules\n",
    "        "
   ]
  },
  {
   "cell_type": "markdown",
   "metadata": {},
   "source": [
    "---------------------\n",
    "#### Example"
   ]
  },
  {
   "cell_type": "code",
   "execution_count": 15,
   "metadata": {},
   "outputs": [
    {
     "name": "stderr",
     "output_type": "stream",
     "text": [
      "100%|██████████| 18/18 [00:00<00:00, 18070.24it/s]"
     ]
    },
    {
     "name": "stdout",
     "output_type": "stream",
     "text": [
      "------------------------------ RESULTS ------------------------------\n",
      "\n",
      "Frequent Itemsets:\n",
      "p\n",
      "c, p\n",
      "m\n",
      "m, f\n",
      "m, c\n",
      "m, c, f\n",
      "a\n",
      "a, m\n",
      "a, f\n",
      "a, m, f\n",
      "a, c\n",
      "a, c, f\n",
      "a, m, c\n",
      "a, m, c, f\n",
      "b\n",
      "c\n",
      "f\n",
      "c, f\n",
      "--------------------\n",
      "\n",
      "Association Rules:\n",
      "['c']\t=>\t['p'], \t\tSupport: 0.60000, \tConfidence: 0.75000\n",
      "['p']\t=>\t['c'], \t\tSupport: 0.60000, \tConfidence: 1.00000\n",
      "['m']\t=>\t['f'], \t\tSupport: 0.60000, \tConfidence: 1.00000\n",
      "['f']\t=>\t['m'], \t\tSupport: 0.60000, \tConfidence: 0.75000\n",
      "['m']\t=>\t['c'], \t\tSupport: 0.60000, \tConfidence: 1.00000\n",
      "['c']\t=>\t['m'], \t\tSupport: 0.60000, \tConfidence: 0.75000\n",
      "['m']\t=>\t['c', 'f'], \t\tSupport: 0.60000, \tConfidence: 1.00000\n",
      "['c']\t=>\t['m', 'f'], \t\tSupport: 0.60000, \tConfidence: 0.75000\n",
      "['f']\t=>\t['m', 'c'], \t\tSupport: 0.60000, \tConfidence: 0.75000\n",
      "['m', 'c']\t=>\t['f'], \t\tSupport: 0.60000, \tConfidence: 1.00000\n"
     ]
    },
    {
     "name": "stderr",
     "output_type": "stream",
     "text": [
      "\n"
     ]
    }
   ],
   "source": [
    "# Example usage\n",
    "org_ex_transactions =  [['p', 'm', 'a', 'c', 'f'],\n",
    "                    ['m', 'b', 'a', 'c', 'f'],\n",
    "                    ['b', 'f'],\n",
    "                    ['p', 'b', 'c'],\n",
    "                    ['p', 'm', 'a', 'c', 'f']]\n",
    "\n",
    "ex_min_support = 3\n",
    "ex_min_confidence = 0.1\n",
    "\n",
    "# convert the transactions into the required format\n",
    "ex_transactions = [[list(item),1] for item in org_ex_transactions]\n",
    "\n",
    "# build the tree\n",
    "ex_tree = FP_Tree(ex_transactions,ex_min_support)\n",
    "\n",
    "# build the tree\n",
    "ex_header_table = ex_tree.build_tree()\n",
    "\n",
    "# mine the tree\n",
    "freqItemsList = []\n",
    "prefix = set()\n",
    "fp_growth(ex_header_table,ex_min_support,prefix,freqItemsList) \n",
    "rules = associationRule(freqItemsList, org_ex_transactions, ex_min_confidence)\n",
    "\n",
    "print(\"---\"*10,\"RESULTS\",\"---\"*10)   \n",
    "\n",
    "\n",
    "print(\"\\nFrequent Itemsets:\")\n",
    "for itemset in freqItemsList:\n",
    "    print(', '.join(itemset))\n",
    "print(\"-\"*20)\n",
    "\n",
    "print(\"\\nAssociation Rules:\")\n",
    "for rule in rules[:10]:\n",
    "    left, right, support, confidence = rule\n",
    "    print(f\"{left}\\t=>\\t{right}, \\t\\tSupport: {support:.5f}, \\tConfidence: {confidence:.5f}\")"
   ]
  },
  {
   "cell_type": "markdown",
   "metadata": {},
   "source": [
    "------\n",
    "### Generate the FP-tree from the training set"
   ]
  },
  {
   "cell_type": "code",
   "execution_count": 16,
   "metadata": {},
   "outputs": [],
   "source": [
    "# now lets run the algorithm on the train data\n",
    "train_transactions = [[list(item),1] for item in train_dic.values()]\n",
    "\n",
    "# build the tree\n",
    "train_tree = FP_Tree(train_transactions,MINIMUM_SUPPORT)\n",
    "\n",
    "# build the tree\n",
    "train_header_table = train_tree.build_tree()\n",
    "\n",
    "# mine the tree\n",
    "freqItemsList = []\n",
    "prefix = set()"
   ]
  },
  {
   "cell_type": "markdown",
   "metadata": {},
   "source": [
    "----\n",
    "#### Generate the frequent itemsets from the FP-tree"
   ]
  },
  {
   "cell_type": "code",
   "execution_count": 17,
   "metadata": {},
   "outputs": [
    {
     "name": "stdout",
     "output_type": "stream",
     "text": [
      "Number of frequent itemsets:  590\n"
     ]
    }
   ],
   "source": [
    "# generate the frequent itemsets\n",
    "fp_growth(train_header_table,MINIMUM_SUPPORT,prefix,freqItemsList)\n",
    "\n",
    "# print the count of frequent itemsets\n",
    "print('Number of frequent itemsets: ',len(freqItemsList))"
   ]
  },
  {
   "cell_type": "markdown",
   "metadata": {},
   "source": [
    "----\n",
    "#### Generate the association rules from the frequent itemsets"
   ]
  },
  {
   "cell_type": "code",
   "execution_count": 18,
   "metadata": {},
   "outputs": [
    {
     "name": "stderr",
     "output_type": "stream",
     "text": [
      "100%|██████████| 590/590 [00:16<00:00, 35.25it/s]"
     ]
    },
    {
     "name": "stdout",
     "output_type": "stream",
     "text": [
      "Number of raw rules:  952\n"
     ]
    },
    {
     "name": "stderr",
     "output_type": "stream",
     "text": [
      "\n"
     ]
    }
   ],
   "source": [
    "# get the association rules\n",
    "rules = associationRule(freqItemsList, train_dic.values(), MINIMUM_CONFIDENCE)\n",
    "\n",
    "# print total number of rules\n",
    "print('Number of raw rules: ',len(rules))\n",
    "\n",
    "# sort them in descending order of confidence\n",
    "rules_by_conf = sorted(rules,key=lambda x:x[3],reverse=True)\n",
    "\n",
    "# sort them in descending order of support\n",
    "rules_by_sup = sorted(rules,key=lambda x:x[2],reverse=True)"
   ]
  },
  {
   "cell_type": "code",
   "execution_count": 19,
   "metadata": {},
   "outputs": [
    {
     "name": "stdout",
     "output_type": "stream",
     "text": [
      "Number of top 100 rules by confidence:  100\n",
      "Number of top 100 rules by support:  100\n"
     ]
    }
   ],
   "source": [
    "# now get top 100 rules by confidence and support\n",
    "top_100_rules_by_conf = rules_by_conf[:100]\n",
    "top_100_rules_by_sup = rules_by_sup[:100]\n",
    "\n",
    "# prnt len of top 100 rules\n",
    "print('Number of top 100 rules by confidence: ',len(top_100_rules_by_conf))\n",
    "print('Number of top 100 rules by support: ',len(top_100_rules_by_sup))"
   ]
  },
  {
   "cell_type": "code",
   "execution_count": 20,
   "metadata": {},
   "outputs": [
    {
     "name": "stdout",
     "output_type": "stream",
     "text": [
      "Top 10 rules by confidence: \n",
      "Left                           Right                          Support              Confidence          \n",
      "260, 2959                      2571                           0.12459              0.86364             \n",
      "296, 2762                      2571                           0.11639              0.80682             \n",
      "7153, 260                      4993                           0.11803              0.80000             \n",
      "7153, 260                      2571                           0.11803              0.80000             \n",
      "1221                           858                            0.13607              0.79808             \n",
      "4993, 260                      2571                           0.11967              0.79348             \n",
      "4993, 260                      7153                           0.11803              0.78261             \n",
      "1210, 2571                     260                            0.12295              0.78125             \n",
      "356, 2959                      2571                           0.12295              0.78125             \n",
      "5952, 7153                     4993                           0.13934              0.77273             \n",
      "---------------------------------------------------------------------------------------------------- \n",
      "\n",
      "Top 10 rules by support: \n",
      "Left                           Right                          Support              Confidence          \n",
      "296                            356                            0.23770              0.58704             \n",
      "356                            296                            0.23770              0.56863             \n",
      "356                            318                            0.22623              0.54118             \n",
      "318                            356                            0.22623              0.55422             \n",
      "296                            593                            0.21639              0.53441             \n",
      "593                            296                            0.21639              0.60000             \n",
      "296                            318                            0.21148              0.52227             \n",
      "318                            296                            0.21148              0.51807             \n",
      "296                            2571                           0.20984              0.51822             \n",
      "2571                           296                            0.20984              0.55652             \n"
     ]
    }
   ],
   "source": [
    "# Print the top 10 rules by confidence\n",
    "print('Top 10 rules by confidence: ')\n",
    "print(\"{:<30} {:<30} {:<20} {:<20}\".format('Left', 'Right', 'Support', 'Confidence'))\n",
    "\n",
    "for i, rule in enumerate(top_100_rules_by_conf[:10], 1):\n",
    "    left, right, support, confidence = rule\n",
    "    left_str = ', '.join(map(str, left))\n",
    "    right_str = ', '.join(map(str, right))\n",
    "    print(\"{:<30} {:<30} {:<20.5f} {:<20.5f}\".format(left_str, right_str, support, confidence))\n",
    "\n",
    "print('-'*100,'\\n')\n",
    "\n",
    "# Print the top 10 rules by support\n",
    "print('Top 10 rules by support: ')\n",
    "print(\"{:<30} {:<30} {:<20} {:<20}\".format('Left', 'Right', 'Support', 'Confidence'))\n",
    "\n",
    "for i, rule in enumerate(top_100_rules_by_sup[:10], 1):\n",
    "    left, right, support, confidence = rule\n",
    "    left_str = ', '.join(map(str, left))\n",
    "    right_str = ', '.join(map(str, right))\n",
    "    print(\"{:<30} {:<30} {:<20.5f} {:<20.5f}\".format(left_str, right_str, support, confidence))"
   ]
  },
  {
   "cell_type": "code",
   "execution_count": 21,
   "metadata": {},
   "outputs": [],
   "source": [
    "# convert the rules into a dataframe\n",
    "column_names = ['antecedents', 'consequents', 'support', 'confidence']\n",
    "\n",
    "# Convert the list of lists to a DataFrame\n",
    "df_top_100_rules_by_conf = pd.DataFrame(top_100_rules_by_conf, columns=column_names)\n",
    "df_top_100_rules_by_sup = pd.DataFrame(top_100_rules_by_sup, columns=column_names)\n",
    "\n",
    "# convert rules into a dataframe\n",
    "df_rules = pd.DataFrame(rules, columns=column_names)\n",
    "\n",
    "# format the anteceents and consequents\n",
    "df_top_100_rules_by_conf['antecedents'] = df_top_100_rules_by_conf['antecedents'].map(tuple)\n",
    "df_top_100_rules_by_conf['consequents'] = df_top_100_rules_by_conf['consequents'].map(tuple)\n",
    "\n",
    "df_top_100_rules_by_sup['antecedents'] = df_top_100_rules_by_sup['antecedents'].map(tuple)\n",
    "df_top_100_rules_by_sup['consequents'] = df_top_100_rules_by_sup['consequents'].map(tuple)\n",
    "\n",
    "df_rules['antecedents'] = df_rules['antecedents'].map(tuple)\n",
    "df_rules['consequents'] = df_rules['consequents'].map(tuple)"
   ]
  },
  {
   "cell_type": "markdown",
   "metadata": {},
   "source": [
    "------\n",
    "### Store the association rules in a file\n",
    "\n",
    "format of the file:\n",
    "- 6_top100RulesByConf (.txt)\n",
    "- 6_top100RulesBySup (.txt)"
   ]
  },
  {
   "cell_type": "code",
   "execution_count": 22,
   "metadata": {},
   "outputs": [],
   "source": [
    "# store them all the top 100 ruls in a txt file\n",
    "with open('6_top100RulesByConf.txt','w') as f:\n",
    "    for rule in top_100_rules_by_conf:\n",
    "        left, right, support, confidence = rule\n",
    "        left_str = ', '.join(map(str, left))\n",
    "        right_str = ', '.join(map(str, right))\n",
    "        f.write(\"{:<30} {:<30} {:<20.5f} {:<20.5f}\\n\".format(left_str, right_str, support, confidence))\n",
    "        \n",
    "with open('6_top100RulesBySup.txt','w') as f:\n",
    "    for rule in top_100_rules_by_sup:\n",
    "        left, right, support, confidence = rule\n",
    "        left_str = ', '.join(map(str, left))\n",
    "        right_str = ', '.join(map(str, right))\n",
    "        f.write(\"{:<30} {:<30} {:<20.5f} {:<20.5f}\\n\".format(left_str, right_str, support, confidence))"
   ]
  },
  {
   "cell_type": "markdown",
   "metadata": {},
   "source": [
    "----\n",
    "### Recommendation\n",
    "\n",
    "Identify the rules that appear in both lists, and then arrange these shared\n",
    "rules based on their confidence score"
   ]
  },
  {
   "cell_type": "code",
   "execution_count": 23,
   "metadata": {},
   "outputs": [
    {
     "name": "stdout",
     "output_type": "stream",
     "text": [
      "   antecedents consequents  support_x  confidence_x\n",
      "12     (1210,)      (260,)   0.177049      0.729730\n",
      "5      (7153,)     (4993,)   0.186885      0.726115\n",
      "7      (5952,)     (4993,)   0.181967      0.711538\n",
      "11     (2762,)     (2571,)   0.177049      0.710526\n",
      "14     (2028,)     (2571,)   0.173770      0.706667\n",
      "10     (5952,)     (7153,)   0.180328      0.705128\n",
      "1      (1196,)      (260,)   0.196721      0.701754\n",
      "2      (1196,)     (2571,)   0.196721      0.701754\n",
      "9      (7153,)     (5952,)   0.180328      0.700637\n",
      "4      (4993,)     (7153,)   0.186885      0.699387\n",
      "13     (7153,)     (2571,)   0.177049      0.687898\n",
      "3      (2959,)     (2571,)   0.190164      0.686391\n",
      "6      (4993,)     (5952,)   0.181967      0.680982\n",
      "15      (377,)      (356,)   0.160656      0.671233\n",
      "0       (480,)      (356,)   0.198361      0.668508\n",
      "8       (150,)      (356,)   0.180328      0.662651\n"
     ]
    }
   ],
   "source": [
    "# Sort by support and get top 100\n",
    "top_support_rules = df_top_100_rules_by_conf.sort_values(by='support', ascending=False).head(100)\n",
    "\n",
    "# Sort by confidence and get top 100\n",
    "top_confidence_rules = df_top_100_rules_by_sup.sort_values(by='confidence', ascending=False).head(100)\n",
    "\n",
    "# Identify rules that appear in both lists\n",
    "common_rules = pd.merge(top_support_rules, top_confidence_rules, how='inner', on=['antecedents', 'consequents'])\n",
    "\n",
    "# Arrange these shared rules based on their confidence\n",
    "common_rules_sorted_by_confidence = common_rules.sort_values(by='confidence_x', ascending=False)\n",
    "\n",
    "# Display the rules\n",
    "print(common_rules_sorted_by_confidence[['antecedents', 'consequents', 'support_x', 'confidence_x']])"
   ]
  },
  {
   "cell_type": "markdown",
   "metadata": {},
   "source": [
    "----\n",
    "\n",
    "### Taking a sample example of users and their movie ratings from the test set and Display precision and recall graphs."
   ]
  },
  {
   "cell_type": "code",
   "execution_count": 24,
   "metadata": {},
   "outputs": [],
   "source": [
    "def get_recomendations(user, train, rule, num_rules):\n",
    "    recommendations = set()\n",
    "    \n",
    "    user_movies = set(train[train['userId']==user]['moviesRatedAbove2'].values[0])\n",
    "    \n",
    "    # need to get revelant rules for the user\n",
    "    for movie in user_movies:\n",
    "        relevant_rules = rule[rule['antecedents'].apply(lambda x: movie in x)]\n",
    "        \n",
    "        # sort the rules by confidence\n",
    "        relevant_rules = relevant_rules.sort_values(by='confidence',ascending=False)\n",
    "        \n",
    "        # now update the recommendations\n",
    "        for i in range(len(relevant_rules)):\n",
    "            recommendations.update(relevant_rules['consequents'].values[i])\n",
    "            \n",
    "            if len(recommendations) >= num_rules:\n",
    "                break\n",
    "            \n",
    "    return recommendations"
   ]
  },
  {
   "cell_type": "code",
   "execution_count": 25,
   "metadata": {},
   "outputs": [],
   "source": [
    "# format the anteceents \n",
    "df_rules['antecedents'] = df_rules['antecedents'].apply(frozenset)\n",
    "\n",
    "# Create a dictionary mapping each movie to its top 10 association rules by confidence\n",
    "movie_to_rules = {}\n",
    "for movie in df_rules['antecedents'].explode().unique():\n",
    "    top_rules = df_rules[df_rules['antecedents'] == frozenset({movie})].nlargest(10, 'confidence')\n",
    "    movie_to_rules[movie] = top_rules"
   ]
  },
  {
   "cell_type": "code",
   "execution_count": 26,
   "metadata": {},
   "outputs": [
    {
     "name": "stderr",
     "output_type": "stream",
     "text": [
      "610it [13:17,  1.31s/it]\n"
     ]
    },
    {
     "data": {
      "image/png": "[encoded data removed]",
      "text/plain": [
       "<Figure size 1000x600 with 1 Axes>"
      ]
     },
     "metadata": {},
     "output_type": "display_data"
    }
   ],
   "source": [
    "# Initial setup for this sample\n",
    "sample_precisions = []\n",
    "sample_recalls = []\n",
    "\n",
    "# Iterate over each user i\n",
    "for _, row in tqdm.tqdm(test_df.iterrows()):\n",
    "    user = row['userId']\n",
    "    test_movies = set(row['moviesRatedAbove2'])\n",
    "    train_movies = set(train_df[train_df['userId'] == user]['moviesRatedAbove2'].iloc[0])\n",
    "\n",
    "    user_precisions = []\n",
    "    user_recalls = []\n",
    "\n",
    "    # For varying number of rules from 1 to 10\n",
    "    for num_rules in range(1, 11):\n",
    "        recommendations = get_recomendations(user, train_df, df_rules, num_rules)\n",
    "        \n",
    "        # Compute the hit set\n",
    "        hit_set = recommendations.intersection(test_movies)\n",
    "\n",
    "        # Calculate precision and recall\n",
    "        precision = len(hit_set) / len(recommendations) if recommendations else 0\n",
    "        recall = len(hit_set) / len(test_movies) if len(test_movies) else 0\n",
    "\n",
    "        user_precisions.append(precision)\n",
    "        user_recalls.append(recall)\n",
    "\n",
    "    sample_precisions.append(user_precisions)\n",
    "    sample_recalls.append(user_recalls)\n",
    "\n",
    "# Compute average precision and recall for this sample\n",
    "avg_sample_precisions = np.mean(sample_precisions, axis=0)\n",
    "avg_sample_recalls = np.mean(sample_recalls, axis=0)\n",
    "\n",
    "# Plotting\n",
    "plt.figure(figsize=(10, 6))\n",
    "x = range(1, 11)\n",
    "plt.plot(x, avg_sample_precisions, marker='o', label='Average Precision')\n",
    "plt.plot(x, avg_sample_recalls, marker='x', label='Average Recall')\n",
    "plt.title('Sample: Average Precision and Recall vs. Number of Rules')\n",
    "plt.xlabel('Number of Rules')\n",
    "plt.ylabel('Value')\n",
    "plt.legend()\n",
    "plt.grid(True)\n",
    "plt.xticks(x)\n",
    "plt.show()"
   ]
  },
  {
   "cell_type": "code",
   "execution_count": 29,
   "metadata": {},
   "outputs": [
    {
     "data": {
      "image/png": "[encoded data removed]",
      "text/plain": [
       "<Figure size 1000x600 with 1 Axes>"
      ]
     },
     "metadata": {},
     "output_type": "display_data"
    }
   ],
   "source": [
    "# Sample a subset of users from test_df\n",
    "sample_test_df = test_df.sample(10)\n",
    "\n",
    "# Initial setup for this sample\n",
    "sample_precisions = []\n",
    "sample_recalls = []\n",
    "\n",
    "# Iterate over each user in the sample_test_df\n",
    "for _, row in sample_test_df.iterrows():\n",
    "    user = row['userId']\n",
    "    test_movies = set(row['moviesRatedAbove2'])\n",
    "    train_movies = set(train_df[train_df['userId'] == user]['moviesRatedAbove2'].iloc[0])\n",
    "\n",
    "    user_precisions = []\n",
    "    user_recalls = []\n",
    "\n",
    "    # For varying number of rules from 1 to 10\n",
    "    for num_rules in range(1, 11):\n",
    "        recommendations = get_recomendations(user, train_df, df_rules, num_rules)\n",
    "        \n",
    "        # Compute the hit set\n",
    "        hit_set = recommendations.intersection(test_movies)\n",
    "\n",
    "        # Calculate precision and recall\n",
    "        precision = len(hit_set) / len(recommendations) if recommendations else 0\n",
    "        recall = len(hit_set) / len(test_movies)\n",
    "\n",
    "        user_precisions.append(precision)\n",
    "        user_recalls.append(recall)\n",
    "\n",
    "    sample_precisions.append(user_precisions)\n",
    "    sample_recalls.append(user_recalls)\n",
    "\n",
    "# Compute average precision and recall for this sample\n",
    "avg_sample_precisions = np.mean(sample_precisions, axis=0)\n",
    "avg_sample_recalls = np.mean(sample_recalls, axis=0)\n",
    "\n",
    "# Plotting\n",
    "plt.figure(figsize=(10, 6))\n",
    "x = range(1, 11)\n",
    "plt.plot(x, avg_sample_precisions, marker='o', label='Average Precision')\n",
    "plt.plot(x, avg_sample_recalls, marker='x', label='Average Recall')\n",
    "plt.title('Sample: Average Precision and Recall vs. Number of Rules')\n",
    "plt.xlabel('Number of Rules')\n",
    "plt.ylabel('Value')\n",
    "plt.legend()\n",
    "plt.grid(True)\n",
    "plt.xticks(x)\n",
    "plt.show()"
   ]
  },
  {
   "cell_type": "code",
   "execution_count": null,
   "metadata": {},
   "outputs": [],
   "source": []
  }
 ],
 "metadata": {
  "kernelspec": {
   "display_name": "Python 3",
   "language": "python",
   "name": "python3"
  },
  "language_info": {
   "codemirror_mode": {
    "name": "ipython",
    "version": 3
   },
   "file_extension": ".py",
   "mimetype": "text/x-python",
   "name": "python",
   "nbconvert_exporter": "python",
   "pygments_lexer": "ipython3",
   "version": "3.11.3"
  }
 },
 "nbformat": 4,
 "nbformat_minor": 2
}
